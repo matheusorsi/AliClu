{
 "cells": [
  {
   "cell_type": "code",
   "execution_count": 8,
   "metadata": {},
   "outputs": [],
   "source": [
    "import numpy as np\n",
    "import dataset as d\n",
    "import pandas as pd"
   ]
  },
  {
   "cell_type": "code",
   "execution_count": 10,
   "metadata": {},
   "outputs": [
    {
     "name": "stdout",
     "output_type": "stream",
     "text": [
      "        2       4       8\n",
      "0  620.00  615.00  665.00\n",
      "1  617.00  608.00  665.00\n",
      "2  615.00  615.00  671.00\n",
      "3  612.00  613.00  669.00\n",
      "4  620.00  615.00  672.00\n",
      "5  616.80  613.20  668.40\n",
      "6    3.42    3.03    3.29\n",
      "\\begin{table}[c]\n",
      "\\centering\n",
      "\\begin{tabular}{lrrr}\n",
      "\\toprule\n",
      "{} &       2 &       4 &       8 \\\\\n",
      "\\midrule\n",
      "                   &  620.00 &  615.00 &  665.00 \\\\\n",
      "                   &  617.00 &  608.00 &  665.00 \\\\\n",
      "                   &  615.00 &  615.00 &  671.00 \\\\\n",
      "                   &  612.00 &  613.00 &  669.00 \\\\\n",
      "                   &  620.00 &  615.00 &  672.00 \\\\\n",
      "\\textbf{Mean              } &  616.80 &  613.20 &  668.40 \\\\\n",
      "\\textbf{Standard deviation} &    3.42 &    3.03 &    3.29 \\\\\n",
      "\\bottomrule\n",
      "\\end{tabular}\n",
      "\\end{table}\n",
      "\n"
     ]
    }
   ],
   "source": [
    "\n",
    "# d.generate_dataset(50, 4,\"time_experiment_2_events.csv\")\n"
   ]
  },
  {
   "cell_type": "code",
   "execution_count": 11,
   "metadata": {},
   "outputs": [
    {
     "name": "stdout",
     "output_type": "stream",
     "text": [
      "\\begin{table}[c]\n",
      "\\centering\n",
      "\\begin{tabular}{llrrrrr}\n",
      "\\toprule\n",
      "{} &          Unnamed: 0 &     125 &     250 &      350 &      500 &     650 \\\\\n",
      "\\midrule\n",
      "\\textbf{0} &                 NaN &  331.00 &  802.00 &  1244.00 &  1178.00 &  1886.0 \\\\\n",
      "\\textbf{1} &                 NaN &  325.00 &  614.00 &   872.00 &  1181.00 &  1755.0 \\\\\n",
      "\\textbf{2} &                 NaN &  332.00 &  617.00 &   868.00 &  1388.00 &  1685.0 \\\\\n",
      "\\textbf{3} &                 NaN &  482.00 &  608.00 &   862.00 &  1307.00 &  1744.0 \\\\\n",
      "\\textbf{4} &                 NaN &  476.00 &  618.00 &   866.00 &  1661.00 &  1616.0 \\\\\n",
      "\\textbf{5} &                Mean &  389.20 &  651.80 &   942.40 &  1343.00 &  1737.2 \\\\\n",
      "\\textbf{6} &  Standard deviation &   82.05 &   84.05 &   168.64 &   198.69 &    99.9 \\\\\n",
      "\\bottomrule\n",
      "\\end{tabular}\n",
      "\\end{table}\n",
      "\n"
     ]
    }
   ],
   "source": [
    "df = pd.read_csv(\"times_bootstrap_samples.csv\", sep=';')\n",
    "#print(df)\n",
    "rows = len(df.index)\n",
    "tempMeans = []\n",
    "tempStd = []\n",
    "for column in df.columns:\n",
    "    tempMeans.append(df[column].mean())\n",
    "    tempStd.append(df[column].std())\n",
    "df.loc[len(df)] = tempMeans\n",
    "df.loc[len(df)] = tempStd\n",
    "print(df.round(2))\n",
    "df.index = [\"\", \"\", \"\", \"\", \"\", \"Mean\", \"Standard deviation\"]\n",
    "df.round(2).to_csv(\"times_bootstrap_samples.csv\", sep=';')\n",
    "print(df.round(2).to_latex(bold_rows=True, position='c'))"
   ]
  },
  {
   "cell_type": "code",
   "execution_count": 25,
   "metadata": {},
   "outputs": [
    {
     "name": "stdout",
     "output_type": "stream",
     "text": [
      "[0, 0, 16, 45, 26, 12, 1, 0, 0]\n"
     ]
    }
   ],
   "source": [
    "df = pd.read_csv(\"time_experiment_8_events.csv\", sep=',')\n",
    "no_sequences = [0]*9\n",
    "for patient in df['aux_encode']:\n",
    "    no_sequences[len(patient.split(','))] += 1\n",
    "\n",
    "print(no_sequences)"
   ]
  },
  {
   "cell_type": "code",
   "execution_count": 1,
   "metadata": {},
   "outputs": [
    {
     "name": "stdout",
     "output_type": "stream",
     "text": [
      "Program a!\n"
     ]
    }
   ],
   "source": [
    "from multiprocessing import Pool\n",
    "import time\n",
    "import math\n",
    "\n",
    "N = 5\n",
    "\n",
    "def cube(x):\n",
    "    return math.sqrt(x)\n",
    "\n",
    "if __name__ == \"__main__\":\n",
    "    pool = Pool()\n",
    "    print(\"Program a!\")\n",
    "    result = pool.map(cube, range(2,N))\n",
    "    print(result)\n",
    "    pool.join()\n",
    "    print(\"Program finished!\")"
   ]
  }
 ],
 "metadata": {
  "kernelspec": {
   "display_name": "thesisEnv",
   "language": "python",
   "name": "python3"
  },
  "language_info": {
   "codemirror_mode": {
    "name": "ipython",
    "version": 3
   },
   "file_extension": ".py",
   "mimetype": "text/x-python",
   "name": "python",
   "nbconvert_exporter": "python",
   "pygments_lexer": "ipython3",
   "version": "3.10.11"
  },
  "orig_nbformat": 4
 },
 "nbformat": 4,
 "nbformat_minor": 2
}
